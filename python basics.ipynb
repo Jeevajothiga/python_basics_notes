{
 "cells": [
  {
   "cell_type": "markdown",
   "id": "9a115a07-9eee-4436-9bb7-b54f375703a2",
   "metadata": {
    "panel-layout": {
     "height": 51.1354,
     "visible": true,
     "width": 100
    }
   },
   "source": [
    "1.VARIABLE"
   ]
  },
  {
   "cell_type": "code",
   "execution_count": 362,
   "id": "77dec189-f894-4454-95e8-614d9ce6f78d",
   "metadata": {},
   "outputs": [],
   "source": [
    "variable_name='jeeva first code'"
   ]
  },
  {
   "cell_type": "code",
   "execution_count": 363,
   "id": "9b120791-0c70-4baf-b6a1-e572744e3cb0",
   "metadata": {
    "panel-layout": {
     "height": -10,
     "visible": true,
     "width": 100
    }
   },
   "outputs": [
    {
     "name": "stdout",
     "output_type": "stream",
     "text": [
      "variable_name\n"
     ]
    }
   ],
   "source": [
    "print('variable_name')"
   ]
  },
  {
   "cell_type": "code",
   "execution_count": 364,
   "id": "cc917240-8a94-486f-a532-ed5c784c2fb5",
   "metadata": {
    "panel-layout": {
     "height": -10,
     "visible": true,
     "width": 100
    }
   },
   "outputs": [
    {
     "data": {
      "text/plain": [
       "str"
      ]
     },
     "execution_count": 364,
     "metadata": {},
     "output_type": "execute_result"
    }
   ],
   "source": [
    "type(variable_name)"
   ]
  },
  {
   "cell_type": "markdown",
   "id": "4770847d-dae1-4a27-aacf-ba56fa6a74a1",
   "metadata": {},
   "source": [
    "2.DATA TYPES"
   ]
  },
  {
   "cell_type": "code",
   "execution_count": 365,
   "id": "78fab904-b385-41f8-83bd-3bddae66e585",
   "metadata": {},
   "outputs": [],
   "source": [
    "#integer\n",
    "dt_1=123"
   ]
  },
  {
   "cell_type": "code",
   "execution_count": 366,
   "id": "30e469d6-33bf-4262-8c5a-aa0d48d0867f",
   "metadata": {},
   "outputs": [
    {
     "name": "stdout",
     "output_type": "stream",
     "text": [
      "dt_1\n"
     ]
    }
   ],
   "source": [
    "print('dt_1')"
   ]
  },
  {
   "cell_type": "code",
   "execution_count": 367,
   "id": "a7eb792b-20fa-451c-9dee-8dbb933cf8b7",
   "metadata": {},
   "outputs": [
    {
     "name": "stdout",
     "output_type": "stream",
     "text": [
      "123\n"
     ]
    }
   ],
   "source": [
    "print(dt_1)"
   ]
  },
  {
   "cell_type": "code",
   "execution_count": 368,
   "id": "384b2805-ec4d-4b34-a121-33a953ce6a67",
   "metadata": {},
   "outputs": [
    {
     "data": {
      "text/plain": [
       "int"
      ]
     },
     "execution_count": 368,
     "metadata": {},
     "output_type": "execute_result"
    }
   ],
   "source": [
    "type(dt_1)"
   ]
  },
  {
   "cell_type": "code",
   "execution_count": 369,
   "id": "5390a551-33f1-44c9-80c3-7dcf30f6b6fc",
   "metadata": {},
   "outputs": [],
   "source": [
    "#float\n",
    "dt_2=123.123"
   ]
  },
  {
   "cell_type": "code",
   "execution_count": 370,
   "id": "e33b19e4-36ed-425b-a1eb-01ed5f72dcd9",
   "metadata": {},
   "outputs": [
    {
     "name": "stdout",
     "output_type": "stream",
     "text": [
      "123.123\n"
     ]
    }
   ],
   "source": [
    "print(dt_2)"
   ]
  },
  {
   "cell_type": "code",
   "execution_count": 371,
   "id": "e5a34ac2-c6b9-4b74-a2c0-53d8908f9a58",
   "metadata": {},
   "outputs": [
    {
     "data": {
      "text/plain": [
       "float"
      ]
     },
     "execution_count": 371,
     "metadata": {},
     "output_type": "execute_result"
    }
   ],
   "source": [
    "type(dt_2)"
   ]
  },
  {
   "cell_type": "code",
   "execution_count": 372,
   "id": "04cfc492-79e0-430a-bb7f-9ffcf2f1706b",
   "metadata": {},
   "outputs": [],
   "source": [
    "#boolean\n",
    "dt_3=True"
   ]
  },
  {
   "cell_type": "code",
   "execution_count": 373,
   "id": "3e44af99-39a0-4d5f-bd86-88416cd53e9a",
   "metadata": {},
   "outputs": [
    {
     "data": {
      "text/plain": [
       "bool"
      ]
     },
     "execution_count": 373,
     "metadata": {},
     "output_type": "execute_result"
    }
   ],
   "source": [
    "type(dt_3)"
   ]
  },
  {
   "cell_type": "code",
   "execution_count": 374,
   "id": "e69db22e-ab71-4968-8f24-72a103eed6b9",
   "metadata": {},
   "outputs": [
    {
     "data": {
      "text/plain": [
       "True"
      ]
     },
     "execution_count": 374,
     "metadata": {},
     "output_type": "execute_result"
    }
   ],
   "source": [
    "dt_3"
   ]
  },
  {
   "cell_type": "code",
   "execution_count": 375,
   "id": "bd7fe0d5-87fe-4553-8ce4-1782310e3a9f",
   "metadata": {},
   "outputs": [],
   "source": [
    "#typecasting \n",
    "dt_3=bool(0)"
   ]
  },
  {
   "cell_type": "code",
   "execution_count": 376,
   "id": "7de98700-e657-4557-8b3f-d3c906cecc86",
   "metadata": {},
   "outputs": [
    {
     "name": "stdout",
     "output_type": "stream",
     "text": [
      "False\n"
     ]
    }
   ],
   "source": [
    "print(dt_3)"
   ]
  },
  {
   "cell_type": "code",
   "execution_count": 377,
   "id": "d7a4e1e6-dcc6-4b2d-a64e-bd9fc6bdf99f",
   "metadata": {},
   "outputs": [],
   "source": [
    "dt_3=bool(1)"
   ]
  },
  {
   "cell_type": "code",
   "execution_count": 378,
   "id": "600dd004-748d-4732-9c19-f7fe58f9c284",
   "metadata": {},
   "outputs": [
    {
     "data": {
      "text/plain": [
       "True"
      ]
     },
     "execution_count": 378,
     "metadata": {},
     "output_type": "execute_result"
    }
   ],
   "source": [
    "dt_3"
   ]
  },
  {
   "cell_type": "code",
   "execution_count": 379,
   "id": "33d08922-65b4-4450-917e-bd6e3ca15f50",
   "metadata": {},
   "outputs": [],
   "source": [
    "#list mutable can store different datatypes\n",
    "l1=[1,2,3.3,4,6,6,7,8,7]"
   ]
  },
  {
   "cell_type": "code",
   "execution_count": 380,
   "id": "f8cdb360-9a84-45fe-8e7d-88fd1c65aaf3",
   "metadata": {},
   "outputs": [
    {
     "name": "stdout",
     "output_type": "stream",
     "text": [
      "[1, 2, 3.3, 4, 6, 6, 7, 8, 7]\n"
     ]
    }
   ],
   "source": [
    "print(l1)"
   ]
  },
  {
   "cell_type": "code",
   "execution_count": 381,
   "id": "8f583976-1bdb-4075-b743-0baf99c145fc",
   "metadata": {},
   "outputs": [
    {
     "data": {
      "text/plain": [
       "list"
      ]
     },
     "execution_count": 381,
     "metadata": {},
     "output_type": "execute_result"
    }
   ],
   "source": [
    "type(l1)"
   ]
  },
  {
   "cell_type": "code",
   "execution_count": 382,
   "id": "fec47ad1-7c9c-4c0c-ac49-30072ed1bdfb",
   "metadata": {},
   "outputs": [],
   "source": [
    "#TUPLE immutable can store different datatype\n",
    "t1=(1,2,3.3,3,4,4,44,4.5)"
   ]
  },
  {
   "cell_type": "code",
   "execution_count": 383,
   "id": "0adfdef5-1cd6-41c9-b975-6175b7452147",
   "metadata": {},
   "outputs": [
    {
     "data": {
      "text/plain": [
       "tuple"
      ]
     },
     "execution_count": 383,
     "metadata": {},
     "output_type": "execute_result"
    }
   ],
   "source": [
    "type(t1)"
   ]
  },
  {
   "cell_type": "code",
   "execution_count": 384,
   "id": "be8aeb07-55e5-4253-bbfb-3f3f3069ffab",
   "metadata": {},
   "outputs": [],
   "source": [
    "#SET mutable, and has no duplicate elements\n",
    "s1={1,2,3,3,4,5,6}"
   ]
  },
  {
   "cell_type": "code",
   "execution_count": 385,
   "id": "e25024ac-97ac-472c-9bed-6b7e3baea8ee",
   "metadata": {},
   "outputs": [
    {
     "data": {
      "text/plain": [
       "{1, 2, 3, 4, 5, 6}"
      ]
     },
     "execution_count": 385,
     "metadata": {},
     "output_type": "execute_result"
    }
   ],
   "source": [
    "s1"
   ]
  },
  {
   "cell_type": "code",
   "execution_count": 386,
   "id": "4ce54f0c-f1ca-440a-afd9-98bbcdd65df8",
   "metadata": {},
   "outputs": [
    {
     "data": {
      "text/plain": [
       "set"
      ]
     },
     "execution_count": 386,
     "metadata": {},
     "output_type": "execute_result"
    }
   ],
   "source": [
    "type(s1)"
   ]
  },
  {
   "cell_type": "code",
   "execution_count": 387,
   "id": "eeebc8b3-d2ed-47ed-aa93-22538b86dfeb",
   "metadata": {},
   "outputs": [
    {
     "data": {
      "text/plain": [
       "list"
      ]
     },
     "execution_count": 387,
     "metadata": {},
     "output_type": "execute_result"
    }
   ],
   "source": [
    "#typecasting a list into a set to remove duplicates and again making it as a list\n",
    "l2=[1,2,3,3,3,4,5,7]\n",
    "type(list((set(l2))))\n"
   ]
  },
  {
   "cell_type": "code",
   "execution_count": 388,
   "id": "6c85721b-0666-4fe7-9271-50c4d5d77018",
   "metadata": {},
   "outputs": [
    {
     "data": {
      "text/plain": [
       "{1, 2, 3, 4, 5, 7}"
      ]
     },
     "execution_count": 388,
     "metadata": {},
     "output_type": "execute_result"
    }
   ],
   "source": [
    "set(l2)\n"
   ]
  },
  {
   "cell_type": "code",
   "execution_count": 389,
   "id": "7c3c111b-9428-46fe-9c6c-cc64ca0a3783",
   "metadata": {},
   "outputs": [
    {
     "name": "stdout",
     "output_type": "stream",
     "text": [
      "{'name': 'nick', 'fav_clr': 'red', 'fav_num': 30}\n"
     ]
    }
   ],
   "source": [
    "#DICTIONARY\n",
    "dict_variable={'name':\"nick\",'fav_clr':'red','fav_num':30}\n",
    "print(dict_variable)"
   ]
  },
  {
   "cell_type": "code",
   "execution_count": 390,
   "id": "7bd963f3-b39b-4a55-a980-9eb9f19ec69e",
   "metadata": {},
   "outputs": [
    {
     "data": {
      "text/plain": [
       "dict"
      ]
     },
     "execution_count": 390,
     "metadata": {},
     "output_type": "execute_result"
    }
   ],
   "source": [
    "type(dict_variable)\n"
   ]
  },
  {
   "cell_type": "code",
   "execution_count": 391,
   "id": "190b0afb",
   "metadata": {},
   "outputs": [
    {
     "data": {
      "text/plain": [
       "30"
      ]
     },
     "execution_count": 391,
     "metadata": {},
     "output_type": "execute_result"
    }
   ],
   "source": [
    "dict_variable['fav_num']\n"
   ]
  },
  {
   "cell_type": "code",
   "execution_count": 392,
   "id": "2a7acea1",
   "metadata": {},
   "outputs": [
    {
     "data": {
      "text/plain": [
       "'nick'"
      ]
     },
     "execution_count": 392,
     "metadata": {},
     "output_type": "execute_result"
    }
   ],
   "source": [
    "dict_variable['name']"
   ]
  },
  {
   "cell_type": "markdown",
   "id": "38c68adb",
   "metadata": {},
   "source": [
    "2.LISTS\n"
   ]
  },
  {
   "cell_type": "code",
   "execution_count": 393,
   "id": "58992047",
   "metadata": {},
   "outputs": [],
   "source": [
    "#create\n",
    "num=[23,24,25,26,27,28]"
   ]
  },
  {
   "cell_type": "code",
   "execution_count": 394,
   "id": "cb961f27",
   "metadata": {},
   "outputs": [
    {
     "data": {
      "text/plain": [
       "[23, 24, 25, 26, 27, 28]"
      ]
     },
     "execution_count": 394,
     "metadata": {},
     "output_type": "execute_result"
    }
   ],
   "source": [
    "#read\n",
    "num"
   ]
  },
  {
   "cell_type": "code",
   "execution_count": 395,
   "id": "9f699349",
   "metadata": {},
   "outputs": [
    {
     "data": {
      "text/plain": [
       "23"
      ]
     },
     "execution_count": 395,
     "metadata": {},
     "output_type": "execute_result"
    }
   ],
   "source": [
    "num[0]"
   ]
  },
  {
   "cell_type": "code",
   "execution_count": 396,
   "id": "99b5aa9f",
   "metadata": {},
   "outputs": [
    {
     "data": {
      "text/plain": [
       "28"
      ]
     },
     "execution_count": 396,
     "metadata": {},
     "output_type": "execute_result"
    }
   ],
   "source": [
    "num[-1]"
   ]
  },
  {
   "cell_type": "code",
   "execution_count": 397,
   "id": "456f280e",
   "metadata": {},
   "outputs": [
    {
     "data": {
      "text/plain": [
       "6"
      ]
     },
     "execution_count": 397,
     "metadata": {},
     "output_type": "execute_result"
    }
   ],
   "source": [
    "len(num)"
   ]
  },
  {
   "cell_type": "code",
   "execution_count": 398,
   "id": "be8da7f2",
   "metadata": {},
   "outputs": [
    {
     "data": {
      "text/plain": [
       "[23, 24, 25, 26, 27, 56]"
      ]
     },
     "execution_count": 398,
     "metadata": {},
     "output_type": "execute_result"
    }
   ],
   "source": [
    "#update\n",
    "num[-1]=56\n",
    "num"
   ]
  },
  {
   "cell_type": "code",
   "execution_count": 399,
   "id": "4afc48da",
   "metadata": {},
   "outputs": [
    {
     "data": {
      "text/plain": [
       "[23, 24, 25, 26, 27, 56, 43]"
      ]
     },
     "execution_count": 399,
     "metadata": {},
     "output_type": "execute_result"
    }
   ],
   "source": [
    "num.append(43)\n",
    "num"
   ]
  },
  {
   "cell_type": "code",
   "execution_count": 400,
   "id": "52ada974",
   "metadata": {},
   "outputs": [
    {
     "data": {
      "text/plain": [
       "[23, 24, 89, 25, 26, 27, 56, 43]"
      ]
     },
     "execution_count": 400,
     "metadata": {},
     "output_type": "execute_result"
    }
   ],
   "source": [
    "num.insert(2,89)\n",
    "num\n",
    "\n"
   ]
  },
  {
   "cell_type": "code",
   "execution_count": 401,
   "id": "968e0914",
   "metadata": {},
   "outputs": [],
   "source": [
    "#delete\n",
    "del num[5]"
   ]
  },
  {
   "cell_type": "code",
   "execution_count": 402,
   "id": "d48d8b5a",
   "metadata": {},
   "outputs": [
    {
     "data": {
      "text/plain": [
       "[23, 24, 89, 25, 26, 56, 43]"
      ]
     },
     "execution_count": 402,
     "metadata": {},
     "output_type": "execute_result"
    }
   ],
   "source": [
    "num"
   ]
  },
  {
   "cell_type": "markdown",
   "id": "abc4e8d3",
   "metadata": {},
   "source": [
    "DICTIONARY"
   ]
  },
  {
   "cell_type": "code",
   "execution_count": 403,
   "id": "766a1a5b",
   "metadata": {},
   "outputs": [],
   "source": [
    "#create\n",
    "food={\"name\":'biriyani',\"quantity\":3,\"flavour\":'nothing'}"
   ]
  },
  {
   "cell_type": "code",
   "execution_count": 404,
   "id": "a448b349",
   "metadata": {},
   "outputs": [
    {
     "data": {
      "text/plain": [
       "{'name': 'biriyani', 'quantity': 3, 'flavour': 'nothing'}"
      ]
     },
     "execution_count": 404,
     "metadata": {},
     "output_type": "execute_result"
    }
   ],
   "source": [
    "#read\n",
    "food"
   ]
  },
  {
   "cell_type": "code",
   "execution_count": 405,
   "id": "ff8a159b",
   "metadata": {},
   "outputs": [
    {
     "data": {
      "text/plain": [
       "'biriyani'"
      ]
     },
     "execution_count": 405,
     "metadata": {},
     "output_type": "execute_result"
    }
   ],
   "source": [
    "food['name']"
   ]
  },
  {
   "cell_type": "code",
   "execution_count": 406,
   "id": "412e2962",
   "metadata": {},
   "outputs": [
    {
     "data": {
      "text/plain": [
       "dict_keys(['name', 'quantity', 'flavour'])"
      ]
     },
     "execution_count": 406,
     "metadata": {},
     "output_type": "execute_result"
    }
   ],
   "source": [
    "food.keys()"
   ]
  },
  {
   "cell_type": "code",
   "execution_count": 407,
   "id": "410669be",
   "metadata": {},
   "outputs": [
    {
     "data": {
      "text/plain": [
       "dict_values(['biriyani', 3, 'nothing'])"
      ]
     },
     "execution_count": 407,
     "metadata": {},
     "output_type": "execute_result"
    }
   ],
   "source": [
    "food.values()"
   ]
  },
  {
   "cell_type": "code",
   "execution_count": 408,
   "id": "851f5e07",
   "metadata": {},
   "outputs": [
    {
     "data": {
      "text/plain": [
       "{'name': 'biriyani', 'quantity': 3, 'flavour': 'dindukal'}"
      ]
     },
     "execution_count": 408,
     "metadata": {},
     "output_type": "execute_result"
    }
   ],
   "source": [
    "#update\n",
    "food['flavour']='dindukal'\n",
    "food"
   ]
  },
  {
   "cell_type": "code",
   "execution_count": 409,
   "id": "a665180c",
   "metadata": {},
   "outputs": [
    {
     "data": {
      "text/plain": [
       "{'name': 'biriyani', 'quantity': 3, 'flavour': 'dindukal', 'price': 340}"
      ]
     },
     "execution_count": 409,
     "metadata": {},
     "output_type": "execute_result"
    }
   ],
   "source": [
    "food['price']=340\n",
    "food"
   ]
  },
  {
   "cell_type": "code",
   "execution_count": 410,
   "id": "caa6d7a6",
   "metadata": {},
   "outputs": [
    {
     "data": {
      "text/plain": [
       "{'name': 'biriyani', 'quantity': 3, 'price': 340}"
      ]
     },
     "execution_count": 410,
     "metadata": {},
     "output_type": "execute_result"
    }
   ],
   "source": [
    "#delete\n",
    "del food['flavour']\n",
    "food"
   ]
  },
  {
   "cell_type": "markdown",
   "id": "31e645e5",
   "metadata": {},
   "source": [
    "4.CONDITIONS AND LOGIC"
   ]
  },
  {
   "cell_type": "code",
   "execution_count": 411,
   "id": "53755fc9",
   "metadata": {},
   "outputs": [
    {
     "name": "stdout",
     "output_type": "stream",
     "text": [
      "hey hii\n"
     ]
    }
   ],
   "source": [
    "#applying logic using if statement\n",
    "name='jeeva'\n",
    "if name == 'jeeva':\n",
    "    print(\"hey hii\")"
   ]
  },
  {
   "cell_type": "code",
   "execution_count": 412,
   "id": "90035976",
   "metadata": {},
   "outputs": [
    {
     "name": "stdout",
     "output_type": "stream",
     "text": [
      "false\n"
     ]
    }
   ],
   "source": [
    "#logic of else\n",
    "probability=0.4\n",
    "if probability==0.5:\n",
    "    print('true')\n",
    "else:\n",
    "    print('false')"
   ]
  },
  {
   "cell_type": "code",
   "execution_count": 413,
   "id": "aa3da4fc",
   "metadata": {},
   "outputs": [
    {
     "name": "stdout",
     "output_type": "stream",
     "text": [
      "num is smaller than 100\n"
     ]
    }
   ],
   "source": [
    "#logic of elif (if one statement is correct\n",
    "# it will not go nd check for other statements)\n",
    "num=10\n",
    "if num>20:\n",
    "    print('num is greater than 20')\n",
    "elif num<100:\n",
    "    print('num is smaller than 100')\n",
    "elif num==50:\n",
    "    print('num is 50')\n",
    "else:\n",
    "    print('num is not 50')"
   ]
  },
  {
   "cell_type": "code",
   "execution_count": 414,
   "id": "016fe2a7",
   "metadata": {},
   "outputs": [
    {
     "name": "stdout",
     "output_type": "stream",
     "text": [
      "num is greater than 20\n",
      "num is smaller than 100\n",
      "num is not 50\n"
     ]
    }
   ],
   "source": [
    "num=30\n",
    "if num>20:\n",
    "    print('num is greater than 20')\n",
    "if num<100:\n",
    "    print('num is smaller than 100')\n",
    "if num==50:\n",
    "    print('num is 50')\n",
    "else:\n",
    "    print('num is not 50')"
   ]
  },
  {
   "cell_type": "code",
   "execution_count": 415,
   "id": "d94f5e0c",
   "metadata": {},
   "outputs": [
    {
     "data": {
      "text/plain": [
       "[30, 50, 40, 60]"
      ]
     },
     "execution_count": 415,
     "metadata": {},
     "output_type": "execute_result"
    }
   ],
   "source": [
    "#checking a list using if statement\n",
    "numbers=[30,50,40,60]\n",
    "numbers"
   ]
  },
  {
   "cell_type": "code",
   "execution_count": 416,
   "id": "bdd26c6d",
   "metadata": {},
   "outputs": [
    {
     "name": "stdout",
     "output_type": "stream",
     "text": [
      "number 50 here\n"
     ]
    }
   ],
   "source": [
    "if 50 in numbers:\n",
    "    print(\"number 50 here\")"
   ]
  },
  {
   "cell_type": "markdown",
   "id": "ce02fb4b",
   "metadata": {},
   "source": [
    "5.LOOPS"
   ]
  },
  {
   "cell_type": "code",
   "execution_count": 417,
   "id": "fe1fe05d",
   "metadata": {},
   "outputs": [
    {
     "name": "stdout",
     "output_type": "stream",
     "text": [
      "30\n",
      "50\n",
      "40\n",
      "60\n"
     ]
    }
   ],
   "source": [
    "#For loop\n",
    "for numbers in numbers:\n",
    "    print(numbers)"
   ]
  },
  {
   "cell_type": "code",
   "execution_count": 418,
   "id": "742cb00c",
   "metadata": {},
   "outputs": [
    {
     "name": "stdout",
     "output_type": "stream",
     "text": [
      "20\n",
      "cannot reach numbers\n",
      "30\n",
      "hi you reached 40\n",
      "40\n",
      "cannot reach numbers\n",
      "50\n",
      "hi you reached 50\n",
      "happy to have you here!\n"
     ]
    }
   ],
   "source": [
    "#break for stopping the loop thats why it does not print 60\n",
    "# continue give next value in the loop\n",
    "# pass is a placeholder to do nothing\n",
    "numbers=[20,30,40,50,60]\n",
    "for numbers in numbers:\n",
    "    print(numbers)\n",
    "    if numbers == 30:\n",
    "        print('hi you reached 40')\n",
    "        continue\n",
    "    elif numbers == 50:\n",
    "        print('hi you reached 50')\n",
    "        break\n",
    "    else:\n",
    "        print ('cannot reach numbers')\n",
    "        pass\n",
    "print('happy to have you here!')"
   ]
  },
  {
   "cell_type": "code",
   "execution_count": 419,
   "id": "2ab2a12f",
   "metadata": {},
   "outputs": [
    {
     "name": "stdout",
     "output_type": "stream",
     "text": [
      "0\n",
      "1\n",
      "2\n",
      "3\n",
      "4\n",
      "5\n",
      "6\n",
      "7\n",
      "8\n",
      "9\n"
     ]
    }
   ],
   "source": [
    "#loop x number of times\n",
    "for idx in range (10):\n",
    "    print(idx)"
   ]
  },
  {
   "cell_type": "code",
   "execution_count": 420,
   "id": "a7688226",
   "metadata": {},
   "outputs": [
    {
     "name": "stdout",
     "output_type": "stream",
     "text": [
      "1\n",
      "2\n",
      "3\n",
      "4\n",
      "5\n",
      "6\n",
      "7\n",
      "8\n",
      "9\n",
      "10\n"
     ]
    }
   ],
   "source": [
    "for idx in range(1,11):\n",
    "    print(idx)"
   ]
  },
  {
   "cell_type": "code",
   "execution_count": 421,
   "id": "c1c4b448",
   "metadata": {},
   "outputs": [
    {
     "name": "stdout",
     "output_type": "stream",
     "text": [
      "number 1 read\n",
      "number 2 read\n",
      "number 3 read\n",
      "number 4 read\n",
      "number 5 read\n",
      "all numbers are read\n"
     ]
    }
   ],
   "source": [
    "#while loop\n",
    "read_number = 0\n",
    "total_numbers=5\n",
    "\n",
    "while True:\n",
    "    #string formatting\n",
    "    print('number {} read'.format(read_number+1))\n",
    "    read_number = read_number+1\n",
    "    if read_number == total_numbers:\n",
    "        print('all numbers are read')\n",
    "        break"
   ]
  },
  {
   "cell_type": "code",
   "execution_count": 422,
   "id": "e3f630c3",
   "metadata": {},
   "outputs": [],
   "source": [
    "#looping through dictionaries\n",
    "food={\"name\":'biriyani',\"quantity\":3,\"flavour\":'yes'}"
   ]
  },
  {
   "cell_type": "code",
   "execution_count": 423,
   "id": "27397ab3",
   "metadata": {},
   "outputs": [
    {
     "name": "stdout",
     "output_type": "stream",
     "text": [
      "name\n",
      "quantity\n",
      "flavour\n"
     ]
    }
   ],
   "source": [
    "for keys in food.keys():\n",
    "    print(keys)"
   ]
  },
  {
   "cell_type": "code",
   "execution_count": 424,
   "id": "8559e053",
   "metadata": {},
   "outputs": [
    {
     "name": "stdout",
     "output_type": "stream",
     "text": [
      "biriyani\n",
      "3\n",
      "yes\n"
     ]
    }
   ],
   "source": [
    "for values in food.values():\n",
    "    print(values)"
   ]
  },
  {
   "cell_type": "code",
   "execution_count": 425,
   "id": "c99df2ef",
   "metadata": {},
   "outputs": [
    {
     "name": "stdout",
     "output_type": "stream",
     "text": [
      "name\n",
      "biriyani \n",
      "\n",
      "quantity\n",
      "3 \n",
      "\n",
      "flavour\n",
      "yes \n",
      "\n"
     ]
    }
   ],
   "source": [
    "#for looping keys and values at same time\n",
    "for key , values in food.items():\n",
    "    print(key)\n",
    "    print(values,'\\n')"
   ]
  },
  {
   "cell_type": "code",
   "execution_count": 426,
   "id": "085e046b",
   "metadata": {},
   "outputs": [],
   "source": [
    "#list comprehension\n",
    "names=['neil armstrong', 'buzz aldrin', 'sally ride', 'yuri gagarin', 'elon musk']\n",
    "new_list = [name.title() for name in names]"
   ]
  },
  {
   "cell_type": "code",
   "execution_count": 427,
   "id": "d355c5f6",
   "metadata": {},
   "outputs": [
    {
     "data": {
      "text/plain": [
       "['Neil Armstrong', 'Buzz Aldrin', 'Sally Ride', 'Yuri Gagarin', 'Elon Musk']"
      ]
     },
     "execution_count": 427,
     "metadata": {},
     "output_type": "execute_result"
    }
   ],
   "source": [
    "new_list"
   ]
  },
  {
   "cell_type": "code",
   "execution_count": 428,
   "id": "f67e4d35",
   "metadata": {},
   "outputs": [
    {
     "data": {
      "text/plain": [
       "['neil armstrong', 'buzz aldrin', 'sally ride', 'yuri gagarin', 'elon musk']"
      ]
     },
     "execution_count": 428,
     "metadata": {},
     "output_type": "execute_result"
    }
   ],
   "source": [
    "names"
   ]
  },
  {
   "cell_type": "markdown",
   "id": "68c9721a",
   "metadata": {},
   "source": [
    "6.FUNCTIONS"
   ]
  },
  {
   "cell_type": "code",
   "execution_count": 429,
   "id": "64eb7053",
   "metadata": {},
   "outputs": [],
   "source": [
    "# Defining a function in Python - Recipe \n",
    "def launchpad_welcome():\n",
    "    print('hello')\n",
    "    print(1+2)\n",
    "    print(3+4)"
   ]
  },
  {
   "cell_type": "code",
   "execution_count": 430,
   "id": "489318d0",
   "metadata": {},
   "outputs": [
    {
     "name": "stdout",
     "output_type": "stream",
     "text": [
      "hello\n",
      "3\n",
      "7\n"
     ]
    }
   ],
   "source": [
    "\n",
    "# Running our function\n",
    "launchpad_welcome()"
   ]
  },
  {
   "cell_type": "code",
   "execution_count": 431,
   "id": "08215714",
   "metadata": {},
   "outputs": [
    {
     "name": "stdout",
     "output_type": "stream",
     "text": [
      "Welcome Elon Musk\n"
     ]
    }
   ],
   "source": [
    "\n",
    "# String formatting \n",
    "print('Welcome {} {}'.format('Elon', 'Musk'))"
   ]
  },
  {
   "cell_type": "code",
   "execution_count": 432,
   "id": "5c1731a9",
   "metadata": {},
   "outputs": [],
   "source": [
    "names = ['neil armstrong', 'buzz aldrin', 'sally ride', 'yuri gagarin', 'elon musk']\n",
    "space_ships=['Galactic 1', ' Galactic 2', 'USS Voyager', 'Maximum Amazin Wow Space Ship', 'Apple iShip']"
   ]
  },
  {
   "cell_type": "code",
   "execution_count": 433,
   "id": "f179edaa",
   "metadata": {},
   "outputs": [],
   "source": [
    "# Positional Arguments\n",
    "def custom_welcome(name):\n",
    "    print('Welcome {}'.format(name))"
   ]
  },
  {
   "cell_type": "code",
   "execution_count": 434,
   "id": "01c718c3",
   "metadata": {},
   "outputs": [
    {
     "name": "stdout",
     "output_type": "stream",
     "text": [
      "Welcome Nick Renotte\n"
     ]
    }
   ],
   "source": [
    "custom_welcome('Nick Renotte')"
   ]
  },
  {
   "cell_type": "code",
   "execution_count": 435,
   "id": "f62dfa03",
   "metadata": {},
   "outputs": [
    {
     "name": "stdout",
     "output_type": "stream",
     "text": [
      "Welcome neil armstrong\n",
      "Welcome buzz aldrin\n",
      "Welcome sally ride\n",
      "Welcome yuri gagarin\n",
      "Welcome elon musk\n"
     ]
    }
   ],
   "source": [
    "\n",
    "for name in names:\n",
    "    custom_welcome(name)"
   ]
  },
  {
   "cell_type": "code",
   "execution_count": 436,
   "id": "3b186c6e",
   "metadata": {},
   "outputs": [],
   "source": [
    "# Multiple positional Arguments - POSITION IS IMPORTANT\n",
    "def custom_welcome_to_ship(name, space_ship):\n",
    "    print('Welcome {} to the {}'.format(name, space_ship))"
   ]
  },
  {
   "cell_type": "code",
   "execution_count": 437,
   "id": "7a38747e",
   "metadata": {},
   "outputs": [
    {
     "name": "stdout",
     "output_type": "stream",
     "text": [
      "Welcome Nick Renotte to the Galatic 1\n"
     ]
    }
   ],
   "source": [
    "\n",
    "custom_welcome_to_ship('Nick Renotte', 'Galatic 1')"
   ]
  },
  {
   "cell_type": "code",
   "execution_count": 438,
   "id": "32c8324c",
   "metadata": {},
   "outputs": [
    {
     "name": "stdout",
     "output_type": "stream",
     "text": [
      "Welcome neil armstrong to the Galactic 1\n",
      "Welcome buzz aldrin to the  Galactic 2\n",
      "Welcome sally ride to the USS Voyager\n",
      "Welcome yuri gagarin to the Maximum Amazin Wow Space Ship\n",
      "Welcome elon musk to the Apple iShip\n"
     ]
    }
   ],
   "source": [
    "\n",
    "# Used the enumerate function to get the positional index AND the name\n",
    "for idx, name in enumerate(names):\n",
    "    ship = space_ships[idx]\n",
    "    custom_welcome_to_ship(name, ship)"
   ]
  },
  {
   "cell_type": "code",
   "execution_count": 439,
   "id": "cb6e895b",
   "metadata": {},
   "outputs": [],
   "source": [
    "\n",
    "# This is using keyword arguments\n",
    "def space_suit(color='Blue'):\n",
    "    print('Your space suit is {}'.format(color))"
   ]
  },
  {
   "cell_type": "code",
   "execution_count": 440,
   "id": "b03ba4db",
   "metadata": {},
   "outputs": [
    {
     "name": "stdout",
     "output_type": "stream",
     "text": [
      "Your space suit is Red\n"
     ]
    }
   ],
   "source": [
    "\n",
    "space_suit(color='Red')"
   ]
  },
  {
   "cell_type": "code",
   "execution_count": 441,
   "id": "656f8b96",
   "metadata": {},
   "outputs": [],
   "source": [
    "# Multiple keyword arguments\n",
    "def space_suit_welcome(name, space_ship, color='Blue', allergies='None'):\n",
    "    print('Welcome {} to the {}, your space suit is {}, you have {} allergies'.format(name, space_ship, color, allergies))"
   ]
  },
  {
   "cell_type": "code",
   "execution_count": 442,
   "id": "799def69",
   "metadata": {},
   "outputs": [
    {
     "name": "stdout",
     "output_type": "stream",
     "text": [
      "Welcome Elon Musk to the Apple iShip, your space suit is Orange, you have Peanut allergies\n"
     ]
    }
   ],
   "source": [
    "space_suit_welcome('Elon Musk', 'Apple iShip', allergies='Peanut', color='Orange')"
   ]
  },
  {
   "cell_type": "code",
   "execution_count": 443,
   "id": "01ec7634",
   "metadata": {},
   "outputs": [],
   "source": [
    "# Setup a return statement\n",
    "def space_suit_welcome_with_return(name, space_ship, color='Blue', allergies='None'):\n",
    "    return 'Welcome {} to the {}, your space suit is {}, you have {} allergies'.format(name, space_ship, color, allergies)"
   ]
  },
  {
   "cell_type": "code",
   "execution_count": 444,
   "id": "f5362389",
   "metadata": {},
   "outputs": [],
   "source": [
    "# Example of storing the results of the function inside a variable\n",
    "welcome = space_suit_welcome_with_return('Elon Musk', 'Apple iShip')"
   ]
  },
  {
   "cell_type": "code",
   "execution_count": 445,
   "id": "c0c843c8",
   "metadata": {},
   "outputs": [
    {
     "name": "stdout",
     "output_type": "stream",
     "text": [
      "Welcome Elon Musk to the Apple iShip, your space suit is Blue, you have None allergies\n"
     ]
    }
   ],
   "source": [
    "print(welcome)\n"
   ]
  },
  {
   "cell_type": "code",
   "execution_count": 446,
   "id": "45c7b270",
   "metadata": {},
   "outputs": [],
   "source": [
    "\n",
    "# Lambda function - anonymous function\n",
    "pi = lambda x: x*3.14"
   ]
  },
  {
   "cell_type": "code",
   "execution_count": 447,
   "id": "8cfef696",
   "metadata": {},
   "outputs": [],
   "source": [
    "\n",
    "return_value = pi(2)"
   ]
  },
  {
   "cell_type": "code",
   "execution_count": 448,
   "id": "38533e40",
   "metadata": {},
   "outputs": [
    {
     "name": "stdout",
     "output_type": "stream",
     "text": [
      "6.28\n"
     ]
    }
   ],
   "source": [
    "\n",
    "print(return_value)"
   ]
  },
  {
   "cell_type": "code",
   "execution_count": 449,
   "id": "d89b75ce",
   "metadata": {},
   "outputs": [
    {
     "data": {
      "text/plain": [
       "6.28"
      ]
     },
     "execution_count": 449,
     "metadata": {},
     "output_type": "execute_result"
    }
   ],
   "source": [
    "3.14*2"
   ]
  },
  {
   "cell_type": "markdown",
   "id": "57fe02b7",
   "metadata": {},
   "source": [
    "5.CLASSES"
   ]
  },
  {
   "cell_type": "code",
   "execution_count": 450,
   "id": "e624e8f5",
   "metadata": {},
   "outputs": [],
   "source": [
    "# Classes as boilerplates for objects\n",
    "class Person():\n",
    "    # The method that runs as soon as you create a class - initialise\n",
    "    def __init__(self, name, age, color):\n",
    "        # Create some attributes for our person class\n",
    "        self.name = name \n",
    "        self.age = age\n",
    "        self.color = color\n",
    "        \n",
    "    # Date of birth method\n",
    "    def year_of_birth(self):\n",
    "        return 2021-self.age\n",
    "    \n",
    "    # Projected age \n",
    "    def project_age(self, years=5):\n",
    "        return self.age+years\n"
   ]
  },
  {
   "cell_type": "code",
   "execution_count": 451,
   "id": "ac856339",
   "metadata": {},
   "outputs": [],
   "source": [
    "\n",
    "new_person = Person('Elon Musk', 38, 'blue')"
   ]
  },
  {
   "cell_type": "code",
   "execution_count": 452,
   "id": "123d58f3",
   "metadata": {},
   "outputs": [
    {
     "data": {
      "text/plain": [
       "38"
      ]
     },
     "execution_count": 452,
     "metadata": {},
     "output_type": "execute_result"
    }
   ],
   "source": [
    "\n",
    "# Accessing a class attribute\n",
    "new_person.age"
   ]
  },
  {
   "cell_type": "code",
   "execution_count": 453,
   "id": "c77447fe",
   "metadata": {},
   "outputs": [
    {
     "data": {
      "text/plain": [
       "1983"
      ]
     },
     "execution_count": 453,
     "metadata": {},
     "output_type": "execute_result"
    }
   ],
   "source": [
    "\n",
    "# Run a method\n",
    "new_person.year_of_birth()"
   ]
  },
  {
   "cell_type": "code",
   "execution_count": 454,
   "id": "bfdc48ce",
   "metadata": {},
   "outputs": [
    {
     "data": {
      "text/plain": [
       "48"
      ]
     },
     "execution_count": 454,
     "metadata": {},
     "output_type": "execute_result"
    }
   ],
   "source": [
    "# Run a method with a keyword argument\n",
    "new_person.project_age(years=10)"
   ]
  },
  {
   "cell_type": "markdown",
   "id": "1d1955c1",
   "metadata": {},
   "source": [
    "6.INHERITANCE"
   ]
  },
  {
   "cell_type": "code",
   "execution_count": 455,
   "id": "1ffd4023",
   "metadata": {},
   "outputs": [],
   "source": [
    "#PARENT is the class passing down attributes and methods = PERSON\n",
    "#CHILD is the class inheriting the methods and attributes = ASTRONAUT"
   ]
  },
  {
   "cell_type": "code",
   "execution_count": 456,
   "id": "0477800e",
   "metadata": {},
   "outputs": [],
   "source": [
    "# Create a child class\n",
    "class Astronaut(Person):\n",
    "    \n",
    "    # Define initialization function\n",
    "    def __init__(self, name, age, color, mission_length_in_months):\n",
    "        \n",
    "        # This is what gives us inheritance - SUPER METHOD\n",
    "        super().__init__(name, age, color)\n",
    "        self.mission_length_months = mission_length_in_months\n",
    "    \n",
    "    # Method for calculating age on return\n",
    "    def age_on_return(self):\n",
    "        return self.project_age(years=int(self.mission_length_months/12))"
   ]
  },
  {
   "cell_type": "code",
   "execution_count": 457,
   "id": "3e358950",
   "metadata": {},
   "outputs": [],
   "source": [
    "new_astronaut = Astronaut('Nick', 99, 'purple', 48)"
   ]
  },
  {
   "cell_type": "code",
   "execution_count": 458,
   "id": "d55f7821",
   "metadata": {},
   "outputs": [
    {
     "data": {
      "text/plain": [
       "'purple'"
      ]
     },
     "execution_count": 458,
     "metadata": {},
     "output_type": "execute_result"
    }
   ],
   "source": [
    "\n",
    "# Access parent like attribute \n",
    "new_astronaut.color"
   ]
  },
  {
   "cell_type": "code",
   "execution_count": 459,
   "id": "42e55239",
   "metadata": {},
   "outputs": [
    {
     "data": {
      "text/plain": [
       "1922"
      ]
     },
     "execution_count": 459,
     "metadata": {},
     "output_type": "execute_result"
    }
   ],
   "source": [
    "\n",
    "# Access the methods\n",
    "new_astronaut.year_of_birth()\n"
   ]
  },
  {
   "cell_type": "code",
   "execution_count": 460,
   "id": "2655237e",
   "metadata": {},
   "outputs": [
    {
     "data": {
      "text/plain": [
       "103"
      ]
     },
     "execution_count": 460,
     "metadata": {},
     "output_type": "execute_result"
    }
   ],
   "source": [
    "\n",
    "# Run a method\n",
    "new_astronaut.age_on_return()"
   ]
  },
  {
   "cell_type": "markdown",
   "id": "0a760b23",
   "metadata": {},
   "source": [
    "7.MARKDOWN"
   ]
  },
  {
   "cell_type": "code",
   "execution_count": 461,
   "id": "733a8c61",
   "metadata": {},
   "outputs": [
    {
     "name": "stdout",
     "output_type": "stream",
     "text": [
      "Hello, elon musk! Welcome to the system.\n"
     ]
    }
   ],
   "source": [
    "# Step 1: Add the path to ensure Python knows where to find helpers.py\n",
    "import sys\n",
    "sys.path.append(r\"C:\\Users\\jojee\\OneDrive\\Desktop\\learnings\\python basics\")\n",
    "\n",
    "# Step 2: Import the function\n",
    "from helpers import greet_user\n",
    "\n",
    "# Step 3: Use the function\n",
    "print(greet_user(\"elon musk\"))\n"
   ]
  },
  {
   "cell_type": "markdown",
   "id": "6b0a9380",
   "metadata": {},
   "source": [
    "8.PACKAGES"
   ]
  },
  {
   "cell_type": "code",
   "execution_count": 462,
   "id": "71f87ad0",
   "metadata": {},
   "outputs": [
    {
     "name": "stdout",
     "output_type": "stream",
     "text": [
      "Requirement already satisfied: requests in c:\\users\\jojee\\appdata\\local\\programs\\python\\python312\\lib\\site-packages (2.32.3)\n",
      "Requirement already satisfied: charset-normalizer<4,>=2 in c:\\users\\jojee\\appdata\\local\\programs\\python\\python312\\lib\\site-packages (from requests) (3.4.0)\n",
      "Requirement already satisfied: idna<4,>=2.5 in c:\\users\\jojee\\appdata\\local\\programs\\python\\python312\\lib\\site-packages (from requests) (3.10)\n",
      "Requirement already satisfied: urllib3<3,>=1.21.1 in c:\\users\\jojee\\appdata\\local\\programs\\python\\python312\\lib\\site-packages (from requests) (2.2.3)\n",
      "Requirement already satisfied: certifi>=2017.4.17 in c:\\users\\jojee\\appdata\\local\\programs\\python\\python312\\lib\\site-packages (from requests) (2024.8.30)\n"
     ]
    },
    {
     "name": "stderr",
     "output_type": "stream",
     "text": [
      "\n",
      "[notice] A new release of pip is available: 24.2 -> 24.3.1\n",
      "[notice] To update, run: python.exe -m pip install --upgrade pip\n"
     ]
    }
   ],
   "source": [
    "!pip install requests"
   ]
  },
  {
   "cell_type": "code",
   "execution_count": 463,
   "id": "72e78814",
   "metadata": {},
   "outputs": [
    {
     "name": "stdout",
     "output_type": "stream",
     "text": [
      "Package                   Version\n",
      "------------------------- -----------\n",
      "asttokens                 2.4.1\n",
      "attrs                     24.2.0\n",
      "certifi                   2024.8.30\n",
      "charset-normalizer        3.4.0\n",
      "colorama                  0.4.6\n",
      "comm                      0.2.2\n",
      "debugpy                   1.8.7\n",
      "decorator                 5.1.1\n",
      "executing                 2.1.0\n",
      "fastjsonschema            2.20.0\n",
      "idna                      3.10\n",
      "import-ipynb              0.2\n",
      "ipykernel                 6.29.5\n",
      "ipython                   8.29.0\n",
      "jedi                      0.19.1\n",
      "jsonschema                4.23.0\n",
      "jsonschema-specifications 2024.10.1\n",
      "jupyter_client            8.6.3\n",
      "jupyter_core              5.7.2\n",
      "matplotlib-inline         0.1.7\n",
      "nbformat                  5.10.4\n",
      "nest-asyncio              1.6.0\n",
      "packaging                 24.1\n",
      "parso                     0.8.4\n",
      "pip                       24.2\n",
      "platformdirs              4.3.6\n",
      "prompt_toolkit            3.0.48\n",
      "psutil                    6.1.0\n",
      "pure_eval                 0.2.3\n",
      "Pygments                  2.18.0\n",
      "python-dateutil           2.9.0.post0\n",
      "pywin32                   308\n",
      "pyzmq                     26.2.0\n",
      "referencing               0.35.1\n",
      "requests                  2.32.3\n",
      "rpds-py                   0.21.0\n",
      "six                       1.16.0\n",
      "stack-data                0.6.3\n",
      "tornado                   6.4.1\n",
      "traitlets                 5.14.3\n",
      "urllib3                   2.2.3\n",
      "wcwidth                   0.2.13\n"
     ]
    }
   ],
   "source": [
    "!pip list"
   ]
  },
  {
   "cell_type": "code",
   "execution_count": 464,
   "id": "345dddc4",
   "metadata": {},
   "outputs": [],
   "source": [
    "#import requsts into notebook\n",
    "import requests"
   ]
  },
  {
   "cell_type": "code",
   "execution_count": 476,
   "id": "b0d85ce0",
   "metadata": {},
   "outputs": [],
   "source": [
    "# i can haz dad joke api endpoint\n",
    "joke_url = 'https://icanhazdadjoke.com'\n",
    "#chatgpt api endpoint\n",
    "iss_url = 'https://api.wheretheiss.at/v1/satellites/25544'"
   ]
  },
  {
   "cell_type": "code",
   "execution_count": 477,
   "id": "0d274473",
   "metadata": {},
   "outputs": [],
   "source": [
    "#this is setting up a header meta data for your api requests\n",
    "my_header = {'accept':'application/json'}\n",
    "#API call\n",
    "results = requests.get(joke_url, headers=my_header)"
   ]
  },
  {
   "cell_type": "code",
   "execution_count": 478,
   "id": "cc8aac96",
   "metadata": {},
   "outputs": [],
   "source": [
    "json_results=results.json()"
   ]
  },
  {
   "cell_type": "code",
   "execution_count": 479,
   "id": "b249f05e",
   "metadata": {},
   "outputs": [
    {
     "data": {
      "text/plain": [
       "{'id': 'sPfqWDlq4Ed',\n",
       " 'joke': '\"Hey, dad, did you get a haircut?\" \"No, I got them all cut.\"',\n",
       " 'status': 200}"
      ]
     },
     "execution_count": 479,
     "metadata": {},
     "output_type": "execute_result"
    }
   ],
   "source": [
    "json_results"
   ]
  },
  {
   "cell_type": "code",
   "execution_count": 480,
   "id": "0b116105",
   "metadata": {},
   "outputs": [
    {
     "data": {
      "text/plain": [
       "dict"
      ]
     },
     "execution_count": 480,
     "metadata": {},
     "output_type": "execute_result"
    }
   ],
   "source": [
    "type(json_results)"
   ]
  },
  {
   "cell_type": "code",
   "execution_count": 481,
   "id": "5c06eac0",
   "metadata": {},
   "outputs": [],
   "source": [
    "result_iss=requests.get(iss_url, headers=my_header)"
   ]
  },
  {
   "cell_type": "code",
   "execution_count": 482,
   "id": "495be27f",
   "metadata": {},
   "outputs": [
    {
     "data": {
      "text/plain": [
       "<Response [200]>"
      ]
     },
     "execution_count": 482,
     "metadata": {},
     "output_type": "execute_result"
    }
   ],
   "source": [
    "result_iss"
   ]
  },
  {
   "cell_type": "code",
   "execution_count": 483,
   "id": "f425cec8",
   "metadata": {},
   "outputs": [
    {
     "data": {
      "text/plain": [
       "{'name': 'iss',\n",
       " 'id': 25544,\n",
       " 'latitude': 16.207908624419,\n",
       " 'longitude': 150.16216159357,\n",
       " 'altitude': 415.71164315986,\n",
       " 'velocity': 27593.934584862,\n",
       " 'visibility': 'eclipsed',\n",
       " 'footprint': 4485.5815594797,\n",
       " 'timestamp': 1732027875,\n",
       " 'daynum': 2460634.1189236,\n",
       " 'solar_lat': -19.662867402058,\n",
       " 'solar_lon': 313.56777179932,\n",
       " 'units': 'kilometers'}"
      ]
     },
     "execution_count": 483,
     "metadata": {},
     "output_type": "execute_result"
    }
   ],
   "source": [
    "result_iss.json()"
   ]
  },
  {
   "cell_type": "markdown",
   "id": "9c5ce686",
   "metadata": {},
   "source": [
    "9.FILES "
   ]
  },
  {
   "cell_type": "code",
   "execution_count": 488,
   "id": "198b40bd",
   "metadata": {},
   "outputs": [],
   "source": [
    "#WRITE OUT OUR MISSION JOURNAL\n",
    "with open('mission_journal.txt', 'w') as f:\n",
    "    f.write(\"its my first day on the space mission its very spectacular.\")\n"
   ]
  },
  {
   "cell_type": "code",
   "execution_count": 494,
   "id": "b39119fe",
   "metadata": {},
   "outputs": [],
   "source": [
    "#READ FROM OUR JOURNAL\n",
    "with open('mission_journal.txt', 'r') as f:\n",
    "    file = f.read()"
   ]
  },
  {
   "cell_type": "code",
   "execution_count": 495,
   "id": "95fb7051",
   "metadata": {},
   "outputs": [
    {
     "name": "stdout",
     "output_type": "stream",
     "text": [
      "its my first day on the space mission its very spectacular.\n"
     ]
    }
   ],
   "source": [
    "print(file)"
   ]
  },
  {
   "cell_type": "markdown",
   "id": "2fb2a60e",
   "metadata": {},
   "source": [
    "10.ERROR HANDLING"
   ]
  },
  {
   "cell_type": "code",
   "execution_count": 496,
   "id": "7ab4fe06",
   "metadata": {},
   "outputs": [],
   "source": [
    " #create a set\n",
    "new_set={1,2,3,4,5,6,7}"
   ]
  },
  {
   "cell_type": "code",
   "execution_count": null,
   "id": "a5f40e3c",
   "metadata": {},
   "outputs": [
    {
     "ename": "TypeError",
     "evalue": "'set' object does not support item assignment",
     "output_type": "error",
     "traceback": [
      "\u001b[1;31m---------------------------------------------------------------------------\u001b[0m",
      "\u001b[1;31mTypeError\u001b[0m                                 Traceback (most recent call last)",
      "Cell \u001b[1;32mIn[497], line 1\u001b[0m\n\u001b[1;32m----> 1\u001b[0m \u001b[43mnew_set\u001b[49m\u001b[43m[\u001b[49m\u001b[38;5;241;43m0\u001b[39;49m\u001b[43m]\u001b[49m\u001b[38;5;241m=\u001b[39m\u001b[38;5;241m4\u001b[39m\n",
      "\u001b[1;31mTypeError\u001b[0m: 'set' object does not support item assignment"
     ]
    }
   ],
   "source": [
    "new_set[0]= 4 #this will show a error"
   ]
  },
  {
   "cell_type": "code",
   "execution_count": 501,
   "id": "d2ec7166",
   "metadata": {},
   "outputs": [
    {
     "name": "stdout",
     "output_type": "stream",
     "text": [
      "'set' object does not support item assignment\n",
      "something went wrong with your request\n"
     ]
    }
   ],
   "source": [
    "#try somthing using try keyword\n",
    "try: #run a piece of code that cause error\n",
    "    new_set[0] = 4\n",
    "except Exception as e: #if we have error this code will run\n",
    "    print(e) #print out somthing that is nicer for the user\n",
    "    print(\"something went wrong with your request\")"
   ]
  }
 ],
 "metadata": {
  "kernelspec": {
   "display_name": "Python 3",
   "language": "python",
   "name": "python3"
  },
  "language_info": {
   "codemirror_mode": {
    "name": "ipython",
    "version": 3
   },
   "file_extension": ".py",
   "mimetype": "text/x-python",
   "name": "python",
   "nbconvert_exporter": "python",
   "pygments_lexer": "ipython3",
   "version": "3.12.7"
  },
  "panel-cell-order": [
   "9a115a07-9eee-4436-9bb7-b54f375703a2",
   "9b120791-0c70-4baf-b6a1-e572744e3cb0",
   "cc917240-8a94-486f-a532-ed5c784c2fb5"
  ]
 },
 "nbformat": 4,
 "nbformat_minor": 5
}
